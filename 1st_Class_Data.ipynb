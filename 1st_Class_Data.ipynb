{
  "nbformat": 4,
  "nbformat_minor": 0,
  "metadata": {
    "colab": {
      "provenance": [],
      "authorship_tag": "ABX9TyNIzFhda3teHk7hnvQUtyDa",
      "include_colab_link": true
    },
    "kernelspec": {
      "name": "ir",
      "display_name": "R"
    },
    "language_info": {
      "name": "R"
    }
  },
  "cells": [
    {
      "cell_type": "markdown",
      "metadata": {
        "id": "view-in-github",
        "colab_type": "text"
      },
      "source": [
        "<a href=\"https://colab.research.google.com/github/Andreabaca1995/PUBN3557-Class/blob/main/1st_Class_Data.ipynb\" target=\"_parent\"><img src=\"https://colab.research.google.com/assets/colab-badge.svg\" alt=\"Open In Colab\"/></a>"
      ]
    },
    {
      "cell_type": "code",
      "execution_count": null,
      "metadata": {
        "id": "TzG_kYaF7tDu"
      },
      "outputs": [],
      "source": []
    },
    {
      "source": [
        "# Install the readxl package if you haven't already\n",
        "install.packages(\"readxl\", repos = \"http://cran.us.r-project.org\")\n",
        "\n",
        "# Load the readxl package\n",
        "library(readxl)\n",
        "\n",
        "# Read the Excel file into a data frame\n",
        "# Replace \"DHDS.xlsx\" with the actual file path if it's not in the current working directory\n",
        "df <- read_excel(\"DHDS.xlsx\")\n",
        "\n",
        "# Print the first few rows of the data frame to check if it was read correctly\n",
        "head(df)"
      ],
      "cell_type": "code",
      "metadata": {
        "colab": {
          "base_uri": "https://localhost:8080/",
          "height": 315
        },
        "id": "a1EWE7WlC5XU",
        "outputId": "c068a3e6-058f-4c7b-cb9d-afe46b3555a2"
      },
      "execution_count": 3,
      "outputs": [
        {
          "output_type": "stream",
          "name": "stderr",
          "text": [
            "Installing package into ‘/usr/local/lib/R/site-library’\n",
            "(as ‘lib’ is unspecified)\n",
            "\n"
          ]
        },
        {
          "output_type": "error",
          "ename": "ERROR",
          "evalue": "Error: `path` does not exist: ‘DHDS.xlsx’\n",
          "traceback": [
            "Error: `path` does not exist: ‘DHDS.xlsx’\nTraceback:\n",
            "1. check_file(path)",
            "2. stop(\"`path` does not exist: \", sQuote(path), call. = FALSE)",
            "3. .handleSimpleError(function (cnd) \n . {\n .     watcher$capture_plot_and_output()\n .     cnd <- sanitize_call(cnd)\n .     watcher$push(cnd)\n .     switch(on_error, continue = invokeRestart(\"eval_continue\"), \n .         stop = invokeRestart(\"eval_stop\"), error = NULL)\n . }, \"`path` does not exist: ‘DHDS.xlsx’\", base::quote(NULL))"
          ]
        }
      ]
    },
    {
      "source": [
        "# Install the readxl package if you haven't already\n",
        "install.packages(\"readxl\", repos = \"http://cran.us.r-project.org\")\n",
        "\n",
        "# Load the readxl package\n",
        "library(readxl)\n",
        "\n",
        "# Read the Excel file into a data frame\n",
        "my_class_data <- read_excel(\"My Class Data.xlsx\")\n",
        "\n",
        "# Print the first few rows of the data frame to check if it was read correctly\n",
        "head(my_class_data)"
      ],
      "cell_type": "code",
      "metadata": {
        "colab": {
          "base_uri": "https://localhost:8080/",
          "height": 315
        },
        "id": "fYl6oCDfE9ts",
        "outputId": "2ff3789a-9a89-4761-a60c-9cf22b86a388"
      },
      "execution_count": 4,
      "outputs": [
        {
          "output_type": "stream",
          "name": "stderr",
          "text": [
            "Installing package into ‘/usr/local/lib/R/site-library’\n",
            "(as ‘lib’ is unspecified)\n",
            "\n"
          ]
        },
        {
          "output_type": "error",
          "ename": "ERROR",
          "evalue": "Error: `path` does not exist: ‘My Class Data.xlsx’\n",
          "traceback": [
            "Error: `path` does not exist: ‘My Class Data.xlsx’\nTraceback:\n",
            "1. check_file(path)",
            "2. stop(\"`path` does not exist: \", sQuote(path), call. = FALSE)",
            "3. .handleSimpleError(function (cnd) \n . {\n .     watcher$capture_plot_and_output()\n .     cnd <- sanitize_call(cnd)\n .     watcher$push(cnd)\n .     switch(on_error, continue = invokeRestart(\"eval_continue\"), \n .         stop = invokeRestart(\"eval_stop\"), error = NULL)\n . }, \"`path` does not exist: ‘My Class Data.xlsx’\", base::quote(NULL))"
          ]
        }
      ]
    },
    {
      "source": [
        "# Install the readxl package if you haven't already\n",
        "install.packages(\"readxl\", repos = \"http://cran.us.r-project.org\")\n",
        "\n",
        "# Load the readxl package\n",
        "library(readxl)\n",
        "\n",
        "# Read the Excel file into a data frame\n",
        "# Provide the full file path to your Excel file\n",
        "my_class_data <- read_excel(\"My Class Data.xlsx\")  # Replace with the actual path\n",
        "\n",
        "# Print the first few rows of the data frame to check if it was read correctly\n",
        "head(my_class_data)"
      ],
      "cell_type": "code",
      "metadata": {
        "colab": {
          "base_uri": "https://localhost:8080/",
          "height": 315
        },
        "id": "a4xoGrNAFOkj",
        "outputId": "605ed5d1-1dbc-4a4d-e33e-2a10c0c28e75"
      },
      "execution_count": 6,
      "outputs": [
        {
          "output_type": "stream",
          "name": "stderr",
          "text": [
            "Installing package into ‘/usr/local/lib/R/site-library’\n",
            "(as ‘lib’ is unspecified)\n",
            "\n"
          ]
        },
        {
          "output_type": "error",
          "ename": "ERROR",
          "evalue": "Error: `path` does not exist: ‘My Class Data.xlsx’\n",
          "traceback": [
            "Error: `path` does not exist: ‘My Class Data.xlsx’\nTraceback:\n",
            "1. check_file(path)",
            "2. stop(\"`path` does not exist: \", sQuote(path), call. = FALSE)",
            "3. .handleSimpleError(function (cnd) \n . {\n .     watcher$capture_plot_and_output()\n .     cnd <- sanitize_call(cnd)\n .     watcher$push(cnd)\n .     switch(on_error, continue = invokeRestart(\"eval_continue\"), \n .         stop = invokeRestart(\"eval_stop\"), error = NULL)\n . }, \"`path` does not exist: ‘My Class Data.xlsx’\", base::quote(NULL))"
          ]
        }
      ]
    },
    {
      "source": [
        "# Install the readxl package if you haven't already\n",
        "if (!require(\"readxl\")) {\n",
        "  install.packages(\"readxl\", repos = \"http://cran.us.r-project.org\")\n",
        "  library(readxl)\n",
        "} else {\n",
        "  library(readxl)\n",
        "}\n",
        "\n",
        "# Read the Excel file into a data frame\n",
        "# Replace \"/path/to/your/file/\" with the actual directory containing your file\n",
        "my_class_data <- read_excel(\"/My_Class_Data.xlsx\")\n",
        "\n",
        "# Print the first few rows of the data frame to check if it was read correctly\n",
        "head(my_class_data)"
      ],
      "cell_type": "code",
      "metadata": {
        "colab": {
          "base_uri": "https://localhost:8080/",
          "height": 931
        },
        "id": "MlEG77ywGt91",
        "outputId": "134631d6-433f-400a-ed7d-6bfa82d3c21c"
      },
      "execution_count": 13,
      "outputs": [
        {
          "output_type": "display_data",
          "data": {
            "text/html": [
              "<table class=\"dataframe\">\n",
              "<caption>A tibble: 6 × 30</caption>\n",
              "<thead>\n",
              "\t<tr><th scope=col>Year</th><th scope=col>LocationAbbr</th><th scope=col>LocationDesc</th><th scope=col>DataSource</th><th scope=col>Category</th><th scope=col>Indicator</th><th scope=col>Response</th><th scope=col>Data_Value_Unit</th><th scope=col>Data_Value_Type</th><th scope=col>Data_Value</th><th scope=col>⋯</th><th scope=col>Stratification2</th><th scope=col>CategoryID</th><th scope=col>IndicatorID</th><th scope=col>LocationID</th><th scope=col>ResponseID</th><th scope=col>DataValueTypeID</th><th scope=col>StratificationCategoryID1</th><th scope=col>StratificationID1</th><th scope=col>StratificationCategoryID2</th><th scope=col>StratificationID2</th></tr>\n",
              "\t<tr><th scope=col>&lt;dbl&gt;</th><th scope=col>&lt;chr&gt;</th><th scope=col>&lt;chr&gt;</th><th scope=col>&lt;chr&gt;</th><th scope=col>&lt;chr&gt;</th><th scope=col>&lt;chr&gt;</th><th scope=col>&lt;chr&gt;</th><th scope=col>&lt;chr&gt;</th><th scope=col>&lt;chr&gt;</th><th scope=col>&lt;dbl&gt;</th><th scope=col>⋯</th><th scope=col>&lt;lgl&gt;</th><th scope=col>&lt;chr&gt;</th><th scope=col>&lt;chr&gt;</th><th scope=col>&lt;dbl&gt;</th><th scope=col>&lt;chr&gt;</th><th scope=col>&lt;chr&gt;</th><th scope=col>&lt;chr&gt;</th><th scope=col>&lt;chr&gt;</th><th scope=col>&lt;lgl&gt;</th><th scope=col>&lt;lgl&gt;</th></tr>\n",
              "</thead>\n",
              "<tbody>\n",
              "\t<tr><td>2021</td><td>GU  </td><td>Guam        </td><td>BRFSS</td><td>Disability Estimates</td><td>Disability status and types among adults 18 years of age or older by race/ethnicity</td><td>Black, non-Hispanic</td><td>%</td><td>Age-adjusted Prevalence</td><td>  NA</td><td>⋯</td><td>NA</td><td>DISEST</td><td>RACEIND</td><td>66</td><td>RACE02</td><td>AGEADJPREV</td><td>DISSTAT</td><td>DISABL </td><td>NA</td><td>NA</td></tr>\n",
              "\t<tr><td>2021</td><td>HHS8</td><td>HHS Region 8</td><td>BRFSS</td><td>Disability Estimates</td><td>Disability status and types among adults 18 years of age or older by age group     </td><td>45-64              </td><td>%</td><td>Prevalence             </td><td> 3.5</td><td>⋯</td><td>NA</td><td>DISEST</td><td>AGEIND </td><td>87</td><td>AGE02 </td><td>PREV      </td><td>DISTYPE</td><td>SELFDIS</td><td>NA</td><td>NA</td></tr>\n",
              "\t<tr><td>2021</td><td>GU  </td><td>Guam        </td><td>BRFSS</td><td>Disability Estimates</td><td>Disability status and types among adults 18 years of age or older by age group     </td><td>45-64              </td><td>%</td><td>Prevalence             </td><td>56.2</td><td>⋯</td><td>NA</td><td>DISEST</td><td>AGEIND </td><td>66</td><td>AGE02 </td><td>PREV      </td><td>DISSTAT</td><td>NODIS  </td><td>NA</td><td>NA</td></tr>\n",
              "\t<tr><td>2021</td><td>GU  </td><td>Guam        </td><td>BRFSS</td><td>Disability Estimates</td><td>Disability status and types among adults 18 years of age or older by age group     </td><td>18-44              </td><td>%</td><td>Prevalence             </td><td>19.7</td><td>⋯</td><td>NA</td><td>DISEST</td><td>AGEIND </td><td>66</td><td>AGE01 </td><td>PREV      </td><td>DISSTAT</td><td>DISABL </td><td>NA</td><td>NA</td></tr>\n",
              "\t<tr><td>2021</td><td>LA  </td><td>Louisiana   </td><td>BRFSS</td><td>Disability Estimates</td><td>Disability status and types among adults 18 years of age or older by sex           </td><td>Female             </td><td>%</td><td>Age-adjusted Prevalence</td><td>65.1</td><td>⋯</td><td>NA</td><td>DISEST</td><td>SEXIND </td><td>22</td><td>SEX02 </td><td>AGEADJPREV</td><td>DISSTAT</td><td>NODIS  </td><td>NA</td><td>NA</td></tr>\n",
              "\t<tr><td>2021</td><td>ID  </td><td>Idaho       </td><td>BRFSS</td><td>Disability Estimates</td><td>Disability status and types among adults 18 years of age or older by age group     </td><td>45-64              </td><td>%</td><td>Prevalence             </td><td>27.8</td><td>⋯</td><td>NA</td><td>DISEST</td><td>AGEIND </td><td>16</td><td>AGE02 </td><td>PREV      </td><td>DISSTAT</td><td>DISABL </td><td>NA</td><td>NA</td></tr>\n",
              "</tbody>\n",
              "</table>\n"
            ],
            "text/markdown": "\nA tibble: 6 × 30\n\n| Year &lt;dbl&gt; | LocationAbbr &lt;chr&gt; | LocationDesc &lt;chr&gt; | DataSource &lt;chr&gt; | Category &lt;chr&gt; | Indicator &lt;chr&gt; | Response &lt;chr&gt; | Data_Value_Unit &lt;chr&gt; | Data_Value_Type &lt;chr&gt; | Data_Value &lt;dbl&gt; | ⋯ ⋯ | Stratification2 &lt;lgl&gt; | CategoryID &lt;chr&gt; | IndicatorID &lt;chr&gt; | LocationID &lt;dbl&gt; | ResponseID &lt;chr&gt; | DataValueTypeID &lt;chr&gt; | StratificationCategoryID1 &lt;chr&gt; | StratificationID1 &lt;chr&gt; | StratificationCategoryID2 &lt;lgl&gt; | StratificationID2 &lt;lgl&gt; |\n|---|---|---|---|---|---|---|---|---|---|---|---|---|---|---|---|---|---|---|---|---|\n| 2021 | GU   | Guam         | BRFSS | Disability Estimates | Disability status and types among adults 18 years of age or older by race/ethnicity | Black, non-Hispanic | % | Age-adjusted Prevalence |   NA | ⋯ | NA | DISEST | RACEIND | 66 | RACE02 | AGEADJPREV | DISSTAT | DISABL  | NA | NA |\n| 2021 | HHS8 | HHS Region 8 | BRFSS | Disability Estimates | Disability status and types among adults 18 years of age or older by age group      | 45-64               | % | Prevalence              |  3.5 | ⋯ | NA | DISEST | AGEIND  | 87 | AGE02  | PREV       | DISTYPE | SELFDIS | NA | NA |\n| 2021 | GU   | Guam         | BRFSS | Disability Estimates | Disability status and types among adults 18 years of age or older by age group      | 45-64               | % | Prevalence              | 56.2 | ⋯ | NA | DISEST | AGEIND  | 66 | AGE02  | PREV       | DISSTAT | NODIS   | NA | NA |\n| 2021 | GU   | Guam         | BRFSS | Disability Estimates | Disability status and types among adults 18 years of age or older by age group      | 18-44               | % | Prevalence              | 19.7 | ⋯ | NA | DISEST | AGEIND  | 66 | AGE01  | PREV       | DISSTAT | DISABL  | NA | NA |\n| 2021 | LA   | Louisiana    | BRFSS | Disability Estimates | Disability status and types among adults 18 years of age or older by sex            | Female              | % | Age-adjusted Prevalence | 65.1 | ⋯ | NA | DISEST | SEXIND  | 22 | SEX02  | AGEADJPREV | DISSTAT | NODIS   | NA | NA |\n| 2021 | ID   | Idaho        | BRFSS | Disability Estimates | Disability status and types among adults 18 years of age or older by age group      | 45-64               | % | Prevalence              | 27.8 | ⋯ | NA | DISEST | AGEIND  | 16 | AGE02  | PREV       | DISSTAT | DISABL  | NA | NA |\n\n",
            "text/latex": "A tibble: 6 × 30\n\\begin{tabular}{lllllllllllllllllllll}\n Year & LocationAbbr & LocationDesc & DataSource & Category & Indicator & Response & Data\\_Value\\_Unit & Data\\_Value\\_Type & Data\\_Value & ⋯ & Stratification2 & CategoryID & IndicatorID & LocationID & ResponseID & DataValueTypeID & StratificationCategoryID1 & StratificationID1 & StratificationCategoryID2 & StratificationID2\\\\\n <dbl> & <chr> & <chr> & <chr> & <chr> & <chr> & <chr> & <chr> & <chr> & <dbl> & ⋯ & <lgl> & <chr> & <chr> & <dbl> & <chr> & <chr> & <chr> & <chr> & <lgl> & <lgl>\\\\\n\\hline\n\t 2021 & GU   & Guam         & BRFSS & Disability Estimates & Disability status and types among adults 18 years of age or older by race/ethnicity & Black, non-Hispanic & \\% & Age-adjusted Prevalence &   NA & ⋯ & NA & DISEST & RACEIND & 66 & RACE02 & AGEADJPREV & DISSTAT & DISABL  & NA & NA\\\\\n\t 2021 & HHS8 & HHS Region 8 & BRFSS & Disability Estimates & Disability status and types among adults 18 years of age or older by age group      & 45-64               & \\% & Prevalence              &  3.5 & ⋯ & NA & DISEST & AGEIND  & 87 & AGE02  & PREV       & DISTYPE & SELFDIS & NA & NA\\\\\n\t 2021 & GU   & Guam         & BRFSS & Disability Estimates & Disability status and types among adults 18 years of age or older by age group      & 45-64               & \\% & Prevalence              & 56.2 & ⋯ & NA & DISEST & AGEIND  & 66 & AGE02  & PREV       & DISSTAT & NODIS   & NA & NA\\\\\n\t 2021 & GU   & Guam         & BRFSS & Disability Estimates & Disability status and types among adults 18 years of age or older by age group      & 18-44               & \\% & Prevalence              & 19.7 & ⋯ & NA & DISEST & AGEIND  & 66 & AGE01  & PREV       & DISSTAT & DISABL  & NA & NA\\\\\n\t 2021 & LA   & Louisiana    & BRFSS & Disability Estimates & Disability status and types among adults 18 years of age or older by sex            & Female              & \\% & Age-adjusted Prevalence & 65.1 & ⋯ & NA & DISEST & SEXIND  & 22 & SEX02  & AGEADJPREV & DISSTAT & NODIS   & NA & NA\\\\\n\t 2021 & ID   & Idaho        & BRFSS & Disability Estimates & Disability status and types among adults 18 years of age or older by age group      & 45-64               & \\% & Prevalence              & 27.8 & ⋯ & NA & DISEST & AGEIND  & 16 & AGE02  & PREV       & DISSTAT & DISABL  & NA & NA\\\\\n\\end{tabular}\n",
            "text/plain": [
              "  Year LocationAbbr LocationDesc DataSource Category            \n",
              "1 2021 GU           Guam         BRFSS      Disability Estimates\n",
              "2 2021 HHS8         HHS Region 8 BRFSS      Disability Estimates\n",
              "3 2021 GU           Guam         BRFSS      Disability Estimates\n",
              "4 2021 GU           Guam         BRFSS      Disability Estimates\n",
              "5 2021 LA           Louisiana    BRFSS      Disability Estimates\n",
              "6 2021 ID           Idaho        BRFSS      Disability Estimates\n",
              "  Indicator                                                                          \n",
              "1 Disability status and types among adults 18 years of age or older by race/ethnicity\n",
              "2 Disability status and types among adults 18 years of age or older by age group     \n",
              "3 Disability status and types among adults 18 years of age or older by age group     \n",
              "4 Disability status and types among adults 18 years of age or older by age group     \n",
              "5 Disability status and types among adults 18 years of age or older by sex           \n",
              "6 Disability status and types among adults 18 years of age or older by age group     \n",
              "  Response            Data_Value_Unit Data_Value_Type         Data_Value ⋯\n",
              "1 Black, non-Hispanic %               Age-adjusted Prevalence   NA       ⋯\n",
              "2 45-64               %               Prevalence               3.5       ⋯\n",
              "3 45-64               %               Prevalence              56.2       ⋯\n",
              "4 18-44               %               Prevalence              19.7       ⋯\n",
              "5 Female              %               Age-adjusted Prevalence 65.1       ⋯\n",
              "6 45-64               %               Prevalence              27.8       ⋯\n",
              "  Stratification2 CategoryID IndicatorID LocationID ResponseID DataValueTypeID\n",
              "1 NA              DISEST     RACEIND     66         RACE02     AGEADJPREV     \n",
              "2 NA              DISEST     AGEIND      87         AGE02      PREV           \n",
              "3 NA              DISEST     AGEIND      66         AGE02      PREV           \n",
              "4 NA              DISEST     AGEIND      66         AGE01      PREV           \n",
              "5 NA              DISEST     SEXIND      22         SEX02      AGEADJPREV     \n",
              "6 NA              DISEST     AGEIND      16         AGE02      PREV           \n",
              "  StratificationCategoryID1 StratificationID1 StratificationCategoryID2\n",
              "1 DISSTAT                   DISABL            NA                       \n",
              "2 DISTYPE                   SELFDIS           NA                       \n",
              "3 DISSTAT                   NODIS             NA                       \n",
              "4 DISSTAT                   DISABL            NA                       \n",
              "5 DISSTAT                   NODIS             NA                       \n",
              "6 DISSTAT                   DISABL            NA                       \n",
              "  StratificationID2\n",
              "1 NA               \n",
              "2 NA               \n",
              "3 NA               \n",
              "4 NA               \n",
              "5 NA               \n",
              "6 NA               "
            ]
          },
          "metadata": {}
        }
      ]
    },
    {
      "cell_type": "code",
      "source": [
        "dim(my_class_data)"
      ],
      "metadata": {
        "colab": {
          "base_uri": "https://localhost:8080/",
          "height": 34
        },
        "id": "GIEM_NOgJgxG",
        "outputId": "52510e6b-bf4d-47a9-a69b-dc2f4dfdf4c5"
      },
      "execution_count": 14,
      "outputs": [
        {
          "output_type": "display_data",
          "data": {
            "text/html": [
              "<style>\n",
              ".list-inline {list-style: none; margin:0; padding: 0}\n",
              ".list-inline>li {display: inline-block}\n",
              ".list-inline>li:not(:last-child)::after {content: \"\\00b7\"; padding: 0 .5ex}\n",
              "</style>\n",
              "<ol class=list-inline><li>7168</li><li>30</li></ol>\n"
            ],
            "text/markdown": "1. 7168\n2. 30\n\n\n",
            "text/latex": "\\begin{enumerate*}\n\\item 7168\n\\item 30\n\\end{enumerate*}\n",
            "text/plain": [
              "[1] 7168   30"
            ]
          },
          "metadata": {}
        }
      ]
    },
    {
      "cell_type": "code",
      "source": [],
      "metadata": {
        "id": "ATLP1ApxMYRk"
      },
      "execution_count": null,
      "outputs": []
    }
  ]
}